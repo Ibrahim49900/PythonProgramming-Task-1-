{
  "nbformat": 4,
  "nbformat_minor": 0,
  "metadata": {
    "colab": {
      "private_outputs": true,
      "provenance": []
    },
    "kernelspec": {
      "name": "python3",
      "display_name": "Python 3"
    },
    "language_info": {
      "name": "python"
    }
  },
  "cells": [
    {
      "cell_type": "code",
      "execution_count": null,
      "metadata": {
        "id": "NQmuk_ZEGJlA"
      },
      "outputs": [],
      "source": [
        "import random\n",
        "\n",
        "# List of possible words\n",
        "word_list = [\"python\", \"development\", \"code\", \"hangman\", \"programming\"]\n",
        "word = random.choice(word_list)  # Randomly select a word\n",
        "word_display = \"_\" * len(word)  # Display the word as underscores\n",
        "word_display = list(word_display)  # Convert to list for easy modification\n",
        "attempts = 6  # Number of incorrect guesses allowed\n",
        "guessed_letters = []  # To keep track of guessed letters\n",
        "\n",
        "print(\"Welcome to Hangman!\")\n",
        "print(\"Guess the word:\", \" \".join(word_display))\n",
        "\n",
        "# Game loop\n",
        "while attempts > 0 and \"_\" in word_display:\n",
        "    guess = input(\"Enter a letter: \").lower()\n",
        "\n",
        "    # Check if the guess is valid and hasn't been guessed before\n",
        "    if len(guess) != 1 or not guess.isalpha():\n",
        "        print(\"Please enter a single letter.\")\n",
        "        continue\n",
        "    elif guess in guessed_letters:\n",
        "        print(\"You've already guessed that letter.\")\n",
        "        continue\n",
        "\n",
        "    # Add guess to guessed letters\n",
        "    guessed_letters.append(guess)\n",
        "\n",
        "    # Check if the guessed letter is in the word\n",
        "    if guess in word:\n",
        "        print(f\"Good guess! '{guess}' is in the word.\")\n",
        "        for i, letter in enumerate(word):\n",
        "            if letter == guess:\n",
        "                word_display[i] = guess\n",
        "    else:\n",
        "        attempts -= 1\n",
        "        print(f\"Wrong guess! '{guess}' is not in the word. Attempts left: {attempts}\")\n",
        "\n",
        "    print(\"Word:\", \" \".join(word_display))\n",
        "\n",
        "# Check if the player won or lost\n",
        "if \"_\" not in word_display:\n",
        "    print(\"Congratulations! You guessed the word:\", word)\n",
        "else:\n",
        "    print(\"Sorry, you're out of attempts. The word was:\", word)\n"
      ]
    }
  ]
}